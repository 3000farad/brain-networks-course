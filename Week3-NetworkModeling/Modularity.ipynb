{
 "cells": [
  {
   "cell_type": "markdown",
   "metadata": {},
   "source": [
    "### Modularity\n",
    "\n",
    "Here we will walk through the computation of modularity for a simple graph.\n",
    "\n",
    "Here is one expression for modularity, from [Fortunato, 2010](https://arxiv.org/pdf/0906.0612.pdf):\n",
    "\n",
    "$$\n",
    "Q = \\frac{1}{2m}\\sum_{ij}(A_{ij} - P_{ij})\\delta(C_i,C_j)\n",
    "$$\n",
    "\n",
    "where $m$ is the total number of edges in the graph, $A$ is the adjacency matrix, and $P_{ij}$ is the expected number of edges between i and j according to the apporpriate null model, and $\\delta$ is a matrix that denotes whether vertices i and j are within the same community:\n",
    "\n",
    "$$\n",
    "\\delta(C_i,C_j) = \\left\\{\n",
    "                \\begin{array}{ll}\n",
    "                  1\\ if\\ C_i=C_j\\\\\n",
    "                  0\\ if\\ C_i \\neq C_j\\\\\n",
    "                \\end{array}\\right.\n",
    "$$"
   ]
  },
  {
   "cell_type": "code",
   "execution_count": 7,
   "metadata": {},
   "outputs": [],
   "source": [
    "import numpy\n",
    "import networkx as nx\n",
    "import matplotlib.pyplot as plt\n",
    "import sys\n",
    "\n",
    "sys.path.append('../utils')\n",
    "from utils import algorithm_u\n",
    "\n",
    "%matplotlib inline"
   ]
  },
  {
   "cell_type": "markdown",
   "metadata": {},
   "source": [
    "First let's create a simple graph that has two communities, each of which is fully connected, with one node from each community connected to a node in the other community."
   ]
  },
  {
   "cell_type": "code",
   "execution_count": 10,
   "metadata": {},
   "outputs": [
    {
     "data": {
      "image/png": "[encoded data removed]",
      "text/plain": [
       "<matplotlib.figure.Figure at 0x12387e198>"
      ]
     },
     "metadata": {},
     "output_type": "display_data"
    }
   ],
   "source": [
    "G = nx.Graph()\n",
    "# nodes 1-4 are members of one community, and 5-8 are members of another, with 1 and 5 connected as well\n",
    "edges=[(1,2),(1,3),(1,4),(1,5),(5,6),(5,7),(5,8),(6,7),(6,8),(7,8),(2,3),(2,4),(3,4)]\n",
    "G.add_edges_from(edges)\n",
    "\n",
    "nx.draw_spring(G,with_labels=True,node_color='yellow')"
   ]
  },
  {
   "cell_type": "markdown",
   "metadata": {},
   "source": [
    "At a glance this looks like a fairly modular graph. To compute modularity, we first need the adjacency matrix."
   ]
  },
  {
   "cell_type": "code",
   "execution_count": 11,
   "metadata": {},
   "outputs": [
    {
     "name": "stdout",
     "output_type": "stream",
     "text": [
      "[[0. 1. 1. 1. 1. 0. 0. 0.]\n",
      " [1. 0. 1. 1. 0. 0. 0. 0.]\n",
      " [1. 1. 0. 1. 0. 0. 0. 0.]\n",
      " [1. 1. 1. 0. 0. 0. 0. 0.]\n",
      " [1. 0. 0. 0. 0. 1. 1. 1.]\n",
      " [0. 0. 0. 0. 1. 0. 1. 1.]\n",
      " [0. 0. 0. 0. 1. 1. 0. 1.]\n",
      " [0. 0. 0. 0. 1. 1. 1. 0.]]\n"
     ]
    }
   ],
   "source": [
    "A = nx.to_numpy_array(G)\n",
    "print(A)"
   ]
  },
  {
   "cell_type": "markdown",
   "metadata": {},
   "source": [
    "Next we need to generate the $\\delta$ matrix denoting whether each pair of vertices is a member of the same community."
   ]
  },
  {
   "cell_type": "code",
   "execution_count": 12,
   "metadata": {},
   "outputs": [
    {
     "name": "stdout",
     "output_type": "stream",
     "text": [
      "[[1. 1. 1. 1. 0. 0. 0. 0.]\n",
      " [1. 1. 1. 1. 0. 0. 0. 0.]\n",
      " [1. 1. 1. 1. 0. 0. 0. 0.]\n",
      " [1. 1. 1. 1. 0. 0. 0. 0.]\n",
      " [0. 0. 0. 0. 1. 1. 1. 1.]\n",
      " [0. 0. 0. 0. 1. 1. 1. 1.]\n",
      " [0. 0. 0. 0. 1. 1. 1. 1.]\n",
      " [0. 0. 0. 0. 1. 1. 1. 1.]]\n"
     ]
    }
   ],
   "source": [
    "partition = [1,1,1,1,2,2,2,2]\n",
    "delta = numpy.zeros((len(partition),len(partition)))\n",
    "for i in range(len(partition)):\n",
    "    for j in range(len(partition)):\n",
    "        delta[i,j]=int(partition[i]==partition[j])\n",
    "        \n",
    "print(delta)"
   ]
  },
  {
   "cell_type": "markdown",
   "metadata": {},
   "source": [
    "The final thing we need is the expected edge frequency from the null model.  In general we want the null model to match the actual graph as closely as possible, except for the clustering. It is common to use a null model in which the degree sequence (i.e. the values of degrees for all nodes) is identical to the real graph; this is a more stringent null model than simply equating the degree distribution.  This null model can be written as (Fortunato, 2010):\n",
    "\n",
    "$$\n",
    "Q = \\frac{1}{2m}\\sum_{ij}\\bigg(A_{ij} - \\frac{k_i k_j}{2m}\\bigg)\\delta(C_i,C_j)\n",
    "$$\n",
    "\n",
    "where $k_i$ is the degree of vertex $i$.  Note that this null model will not necessarily give an identical degree sequence on any particular realization, but should be the same on average."
   ]
  },
  {
   "cell_type": "code",
   "execution_count": 14,
   "metadata": {},
   "outputs": [
    {
     "name": "stdout",
     "output_type": "stream",
     "text": [
      "0.42307692307692296\n"
     ]
    }
   ],
   "source": [
    "m = len(G.edges)\n",
    "k = [G.degree[i] for i in G.nodes] # degree values\n",
    "Q=0\n",
    "for i in range(len(k)):\n",
    "    for j in range(len(k)):\n",
    "        Q += (A[i,j] - (k[i]*k[j])/(2*m))*delta[i,j]\n",
    "Q = Q/(2*m)\n",
    "\n",
    "print(Q)"
   ]
  },
  {
   "cell_type": "markdown",
   "metadata": {},
   "source": [
    "We can compare our answer to the one given by the built-in modularity function in NetworkX:"
   ]
  },
  {
   "cell_type": "code",
   "execution_count": 15,
   "metadata": {},
   "outputs": [
    {
     "data": {
      "text/plain": [
       "0.42307692307692296"
      ]
     },
     "execution_count": 15,
     "metadata": {},
     "output_type": "execute_result"
    }
   ],
   "source": [
    "nx.algorithms.community.quality.modularity(G,[{1,2,3,4},{5,6,7,8}])"
   ]
  },
  {
   "cell_type": "markdown",
   "metadata": {},
   "source": [
    "Now let's examine how modularity varies with the partition.  In this case, we can fairly easily compute all possible partitions of the 8 nodes and compute modularity for each.  In principle we should see that the modularity value is highest for the true partition."
   ]
  },
  {
   "cell_type": "code",
   "execution_count": 24,
   "metadata": {},
   "outputs": [],
   "source": [
    "Qvals=numpy.zeros(128)\n",
    "partitions=[]\n",
    "# loop through all possible partitions into two communities:\n",
    "\n",
    "for i,p in enumerate(algorithm_u([1,2,3,4,5,6,7,8],2)):\n",
    "    Qvals[i] = nx.algorithms.community.quality.modularity(G,p)\n",
    "    partitions.append(p)\n"
   ]
  },
  {
   "cell_type": "code",
   "execution_count": 35,
   "metadata": {},
   "outputs": [
    {
     "name": "stdout",
     "output_type": "stream",
     "text": [
      "maximum Q: 0.42307692307692296\n",
      "best partition: [[1, 2, 3, 4], [5, 6, 7, 8]]\n"
     ]
    }
   ],
   "source": [
    "print('maximum Q:',Qvals.max())\n",
    "print('best partition:',partitions[numpy.argsort(Qvals)[-1:][0]])"
   ]
  }
 ],
 "metadata": {
  "kernelspec": {
   "display_name": "Python 3",
   "language": "python",
   "name": "python3"
  },
  "language_info": {
   "codemirror_mode": {
    "name": "ipython",
    "version": 3
   },
   "file_extension": ".py",
   "mimetype": "text/x-python",
   "name": "python",
   "nbconvert_exporter": "python",
   "pygments_lexer": "ipython3",
   "version": "3.6.3"
  }
 },
 "nbformat": 4,
 "nbformat_minor": 2
}
