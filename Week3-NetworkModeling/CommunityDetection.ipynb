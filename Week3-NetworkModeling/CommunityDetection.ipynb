{
 "cells": [
  {
   "cell_type": "markdown",
   "metadata": {},
   "source": [
    "## Community Detection\n",
    "\n",
    "In this notebook we will walk through a number of methods for community detection using a simple example dataset.\n",
    "\n",
    "\n"
   ]
  },
  {
   "cell_type": "code",
   "execution_count": 6,
   "metadata": {},
   "outputs": [],
   "source": [
    "import numpy\n",
    "import networkx as nx\n",
    "import matplotlib.pyplot as plt\n",
    "import sys\n",
    "import operator \n",
    "\n",
    "sys.path.append('../utils')\n",
    "from utils import algorithm_u\n",
    "\n",
    "%matplotlib inline"
   ]
  },
  {
   "cell_type": "markdown",
   "metadata": {},
   "source": [
    "### Example graph\n",
    "\n",
    "First let's create a simple graph that has two communities, each of which is fully connected, with one node from each community connected to a node in the other community."
   ]
  },
  {
   "cell_type": "code",
   "execution_count": 7,
   "metadata": {},
   "outputs": [
    {
     "data": {
      "image/png": "[encoded data removed]",
      "text/plain": [
       "<matplotlib.figure.Figure at 0x11164ec18>"
      ]
     },
     "metadata": {},
     "output_type": "display_data"
    }
   ],
   "source": [
    "G = nx.Graph()\n",
    "# nodes 1-4 are members of one community, and 5-8 are members of another, with 1 and 5 connected as well\n",
    "edges=[(1,2),(1,3),(1,4),(1,5),(5,6),(5,7),(5,8),(6,7),(6,8),(7,8),(2,3),(2,4),(3,4)]\n",
    "G.add_edges_from(edges)\n",
    "\n",
    "nx.draw_spring(G,with_labels=True,node_color='yellow')"
   ]
  },
  {
   "cell_type": "markdown",
   "metadata": {},
   "source": [
    "### Girvan-Newman method\n",
    "\n",
    "The Girvan-Newman method is a *divisive* clustering method, meaning that it starts with the full graph and tries to find the best way to divide it into some number of clusters by removing particular edges.\n",
    "\n",
    "The algorithm was defined by [Girvan & Newman (2002)](http://www.pnas.org/content/99/12/7821) as follows:\n",
    "\n",
    "1. Calculate the betweenness for all edges in the network.\n",
    "2. Remove the edge with the highest betweenness.\n",
    "3. Recalculate betweennesses for all edges affected by the\n",
    "removal.\n",
    "4. Repeat from step 2 until no edges remain.\n",
    "\n",
    "Let's implement this for the example dataset, finding two clusters."
   ]
  },
  {
   "cell_type": "code",
   "execution_count": 88,
   "metadata": {},
   "outputs": [
    {
     "name": "stdout",
     "output_type": "stream",
     "text": [
      "removing edge: (1, 5)\n",
      "found two clusters:\n",
      "[[1, 2, 3, 4], [5, 6, 7, 8]]\n"
     ]
    }
   ],
   "source": [
    "n_clusters=len([i for i in nx.connected_components(G)])\n",
    "G_tmp=G.copy()  # make a copy of the graph to work with\n",
    "while n_clusters==1:\n",
    "    # step 1: compute edge betweenness\n",
    "    eb=nx.edge_betweenness(G_tmp)\n",
    "    \n",
    "    # step 2: remove the edge with highest betweeness\n",
    "    # find the edge with the largest value of edge betweenness\n",
    "    ebmax = max(eb.items(), key=operator.itemgetter(1))[0]\n",
    "    # remove it from the graph\n",
    "    G_tmp.remove_edges_from([ebmax])\n",
    "    print('removing edge:',ebmax)\n",
    "    \n",
    "    # compute the number of connected components to see if we have\n",
    "    # induced new clusters, and continue looping if not\n",
    "    n_clusters=len([i for i in nx.connected_components(G_tmp)])\n",
    "    \n",
    "print('found two clusters:')\n",
    "print([list(i.nodes) for i in nx.connected_component_subgraphs(G_tmp)])"
   ]
  },
  {
   "cell_type": "markdown",
   "metadata": {},
   "source": [
    "### Modularity\n",
    "\n",
    "One of the most commonly used set of methods for community detection rely upon the concept of *modularity*.  Here we will walk through the computation of modularity for a simple graph.\n",
    "\n",
    "Here is one expression for modularity, from [Fortunato, 2010](https://arxiv.org/pdf/0906.0612.pdf):\n",
    "\n",
    "$$\n",
    "Q = \\frac{1}{2m}\\sum_{ij}(A_{ij} - P_{ij})\\delta(C_i,C_j)\n",
    "$$\n",
    "\n",
    "where $m$ is the total number of edges in the graph, $A$ is the adjacency matrix, and $P_{ij}$ is the expected number of edges between i and j according to the apporpriate null model, and $\\delta$ is a matrix that denotes whether vertices i and j are within the same community:\n",
    "\n",
    "$$\n",
    "\\delta(C_i,C_j) = \\left\\{\n",
    "                \\begin{array}{ll}\n",
    "                  1\\ if\\ C_i=C_j\\\\\n",
    "                  0\\ if\\ C_i \\neq C_j\\\\\n",
    "                \\end{array}\\right.\n",
    "$$"
   ]
  },
  {
   "cell_type": "markdown",
   "metadata": {},
   "source": [
    "At a glance this looks like a fairly modular graph. To compute modularity, we first need the adjacency matrix."
   ]
  },
  {
   "cell_type": "code",
   "execution_count": 8,
   "metadata": {},
   "outputs": [
    {
     "name": "stdout",
     "output_type": "stream",
     "text": [
      "[[0. 1. 1. 1. 1. 0. 0. 0.]\n",
      " [1. 0. 1. 1. 0. 0. 0. 0.]\n",
      " [1. 1. 0. 1. 0. 0. 0. 0.]\n",
      " [1. 1. 1. 0. 0. 0. 0. 0.]\n",
      " [1. 0. 0. 0. 0. 1. 1. 1.]\n",
      " [0. 0. 0. 0. 1. 0. 1. 1.]\n",
      " [0. 0. 0. 0. 1. 1. 0. 1.]\n",
      " [0. 0. 0. 0. 1. 1. 1. 0.]]\n"
     ]
    }
   ],
   "source": [
    "A = nx.to_numpy_array(G)\n",
    "print(A)"
   ]
  },
  {
   "cell_type": "markdown",
   "metadata": {},
   "source": [
    "Next we need to generate the $\\delta$ matrix denoting whether each pair of vertices is a member of the same community."
   ]
  },
  {
   "cell_type": "code",
   "execution_count": 9,
   "metadata": {},
   "outputs": [
    {
     "name": "stdout",
     "output_type": "stream",
     "text": [
      "[[1. 1. 1. 1. 0. 0. 0. 0.]\n",
      " [1. 1. 1. 1. 0. 0. 0. 0.]\n",
      " [1. 1. 1. 1. 0. 0. 0. 0.]\n",
      " [1. 1. 1. 1. 0. 0. 0. 0.]\n",
      " [0. 0. 0. 0. 1. 1. 1. 1.]\n",
      " [0. 0. 0. 0. 1. 1. 1. 1.]\n",
      " [0. 0. 0. 0. 1. 1. 1. 1.]\n",
      " [0. 0. 0. 0. 1. 1. 1. 1.]]\n"
     ]
    }
   ],
   "source": [
    "partition = [1,1,1,1,2,2,2,2]\n",
    "delta = numpy.zeros((len(partition),len(partition)))\n",
    "for i in range(len(partition)):\n",
    "    for j in range(len(partition)):\n",
    "        delta[i,j]=int(partition[i]==partition[j])\n",
    "        \n",
    "print(delta)"
   ]
  },
  {
   "cell_type": "markdown",
   "metadata": {},
   "source": [
    "The final thing we need is the expected edge frequency from the null model.  In general we want the null model to match the actual graph as closely as possible, except for the clustering. It is common to use a null model in which the degree sequence (i.e. the values of degrees for all nodes) is identical to the real graph; this is a more stringent null model than simply equating the degree distribution.  This null model can be written as (Fortunato, 2010):\n",
    "\n",
    "$$\n",
    "Q = \\frac{1}{2m}\\sum_{ij}\\bigg(A_{ij} - \\frac{k_i k_j}{2m}\\bigg)\\delta(C_i,C_j)\n",
    "$$\n",
    "\n",
    "where $k_i$ is the degree of vertex $i$.  Note that this null model will not necessarily give an identical degree sequence on any particular realization, but should be the same on average."
   ]
  },
  {
   "cell_type": "code",
   "execution_count": 10,
   "metadata": {},
   "outputs": [
    {
     "name": "stdout",
     "output_type": "stream",
     "text": [
      "0.42307692307692296\n"
     ]
    }
   ],
   "source": [
    "m = len(G.edges)\n",
    "k = [G.degree[i] for i in G.nodes] # degree values\n",
    "Q=0\n",
    "for i in range(len(k)):\n",
    "    for j in range(len(k)):\n",
    "        Q += (A[i,j] - (k[i]*k[j])/(2*m))*delta[i,j]\n",
    "Q = Q/(2*m)\n",
    "\n",
    "print(Q)"
   ]
  },
  {
   "cell_type": "markdown",
   "metadata": {},
   "source": [
    "We can compare our answer to the one given by the built-in modularity function in NetworkX:"
   ]
  },
  {
   "cell_type": "code",
   "execution_count": 11,
   "metadata": {},
   "outputs": [
    {
     "data": {
      "text/plain": [
       "0.42307692307692296"
      ]
     },
     "execution_count": 11,
     "metadata": {},
     "output_type": "execute_result"
    }
   ],
   "source": [
    "nx.algorithms.community.quality.modularity(G,[{1,2,3,4},{5,6,7,8}])"
   ]
  },
  {
   "cell_type": "markdown",
   "metadata": {},
   "source": [
    "Now let's examine how modularity varies with the partition.  In this case, we can fairly easily compute all possible partitions of the 8 nodes and compute modularity for each.  In principle we should see that the modularity value is highest for the true partition."
   ]
  },
  {
   "cell_type": "code",
   "execution_count": 12,
   "metadata": {},
   "outputs": [],
   "source": [
    "Qvals=numpy.zeros(128)\n",
    "partitions=[]\n",
    "# loop through all possible partitions into two communities:\n",
    "\n",
    "for i,p in enumerate(algorithm_u([1,2,3,4,5,6,7,8],2)):\n",
    "    Qvals[i] = nx.algorithms.community.quality.modularity(G,p)\n",
    "    partitions.append(p)\n"
   ]
  },
  {
   "cell_type": "code",
   "execution_count": 13,
   "metadata": {},
   "outputs": [
    {
     "name": "stdout",
     "output_type": "stream",
     "text": [
      "maximum Q: 0.42307692307692296\n",
      "best partition: [[1, 2, 3, 4], [5, 6, 7, 8]]\n"
     ]
    }
   ],
   "source": [
    "print('maximum Q:',Qvals.max())\n",
    "print('best partition:',partitions[numpy.argsort(Qvals)[-1:][0]])"
   ]
  },
  {
   "cell_type": "markdown",
   "metadata": {},
   "source": [
    "### Modularity optimization\n",
    "\n",
    "In general, it's not possible to perform exhaustive computation of modularity for all possible partitions (since this grows exponentially with the size of the graph), so a number of researchers have developed approximate methods that perform well in finding the partition with the maximum modularity value.\n",
    "\n",
    "#### Greedy optimization\n",
    "\n",
    "One approach (proposed initially by [Newman, 2004](https://pdfs.semanticscholar.org/29d4/dfae2807a67a2c66c720b4985cb599c4e245.pdf)) is to perform an *agglomerative* clustering using a [\"greedy\" algorithm ](https://en.wikipedia.org/wiki/Greedy_algorithm)- that is, an algorithm that makes the best possible choice at each point in the process, akin to climbing a hill by going the steepest upward direction at every point.\n",
    "\n",
    "In Newman's greedy method, we start with each vertex in its own partition. We then find which combination of partitions would increase modularity the most, and combine those into one.\n",
    "\n",
    "The implementation here would be far too inefficient to use with real data, but should help make clear how the algorithm works."
   ]
  },
  {
   "cell_type": "code",
   "execution_count": 168,
   "metadata": {},
   "outputs": [
    {
     "name": "stdout",
     "output_type": "stream",
     "text": [
      "unique partitions: [1 2 3 4 5 6 7 8]\n",
      "(2, 3) -0.07692307692307693\n",
      "unique partitions: [1 3 4 5 6 7 8]\n",
      "(3, 4) 0.02366863905325443\n",
      "unique partitions: [1 4 5 6 7 8]\n",
      "(1, 4) 0.14792899408284027\n",
      "unique partitions: [4 5 6 7 8]\n",
      "(6, 7) 0.19822485207100599\n",
      "unique partitions: [4 5 7 8]\n",
      "(7, 8) 0.2988165680473374\n",
      "unique partitions: [4 5 8]\n",
      "(5, 8) 0.42307692307692296\n",
      "unique partitions: [4 8]\n",
      "breaking: found best Q value!\n",
      "[4 4 4 4 8 8 8 8]\n"
     ]
    }
   ],
   "source": [
    "# create a function to compute modularity more easily\n",
    "def modularity(G,partition):\n",
    "    A = nx.to_numpy_array(G)\n",
    "    m = len(G.edges)\n",
    "    delta = numpy.zeros((len(partition),len(partition)))\n",
    "    for i in range(len(partition)):\n",
    "        for j in range(len(partition)):\n",
    "            delta[i,j]=int(partition[i]==partition[j])\n",
    "   \n",
    "    k = [G.degree[i] for i in G.nodes] # degree values\n",
    "    Q=0\n",
    "    for i in range(len(k)):\n",
    "        for j in range(len(k)):\n",
    "            Q += (A[i,j] - (k[i]*k[j])/(2*m))*delta[i,j]\n",
    "    Q = Q/(2*m)\n",
    "    return(Q)\n",
    "\n",
    "Qvals=[-numpy.inf]\n",
    "notbest=True\n",
    "partition=numpy.array([1,2,3,4,5,6,7,8])  # initially assign all to the same\n",
    "\n",
    "while notbest:\n",
    "    unique_partitions=numpy.unique(partition)\n",
    "    print('unique partitions:',unique_partitions)\n",
    "    # loop through all combinations of unique partitions\n",
    "    modvals={}\n",
    "    for i in range(len(unique_partitions)):\n",
    "        for j in range(i+1,len(unique_partitions)):\n",
    "            if i==j:\n",
    "                continue\n",
    "            tmp_part=numpy.array(partition)\n",
    "            tmp_part[tmp_part==unique_partitions[i]]=unique_partitions[j]\n",
    "            \n",
    "            modvals[(unique_partitions[i],unique_partitions[j])]=modularity(G,tmp_part)\n",
    "    modmax = max(modvals.items(), key=operator.itemgetter(1))[0]\n",
    "    if modvals[modmax]<numpy.max(numpy.array(Qvals)):\n",
    "        print('breaking: found best Q value!')\n",
    "        print(partition)\n",
    "        notbest=False\n",
    "    else:\n",
    "        print(modmax,modvals[modmax])\n",
    "        partition[partition==modmax[0]]=modmax[1]\n",
    "        Qvals.append(modvals[modmax])\n"
   ]
  },
  {
   "cell_type": "markdown",
   "metadata": {},
   "source": [
    "### Spectral clustering\n",
    "\n",
    "Another common method for community detection is spectral clustering, which uses the eigenvectors of matrices that describe the graph.  While we could work with the adjacency matrix, it is more common to use the [Laplacian matrix](https://samidavies.wordpress.com/2016/09/20/whats-up-with-the-graph-laplacian/), which you can think of as describing the flow of some quantity away from any particular node in the graph.\n",
    "\n",
    "The Laplacian L is defined as:\n",
    "\n",
    "$$\n",
    "L = D - A\n",
    "$$ \n",
    "\n",
    "where $A$ is the adjacency matrix, and $D$ is a diagonal matrix where each entry is the degree of that particular node. Here it is for our example graph:"
   ]
  },
  {
   "cell_type": "code",
   "execution_count": 17,
   "metadata": {},
   "outputs": [
    {
     "name": "stdout",
     "output_type": "stream",
     "text": [
      "[[ 4. -1. -1. -1. -1.  0.  0.  0.]\n",
      " [-1.  3. -1. -1.  0.  0.  0.  0.]\n",
      " [-1. -1.  3. -1.  0.  0.  0.  0.]\n",
      " [-1. -1. -1.  3.  0.  0.  0.  0.]\n",
      " [-1.  0.  0.  0.  4. -1. -1. -1.]\n",
      " [ 0.  0.  0.  0. -1.  3. -1. -1.]\n",
      " [ 0.  0.  0.  0. -1. -1.  3. -1.]\n",
      " [ 0.  0.  0.  0. -1. -1. -1.  3.]]\n"
     ]
    }
   ],
   "source": [
    "D = numpy.zeros(A.shape)\n",
    "D[numpy.diag_indices_from(D)]=k\n",
    "L = D - A\n",
    "print(L)"
   ]
  },
  {
   "cell_type": "markdown",
   "metadata": {},
   "source": [
    "In general, it's more useful to work with the normalized Laplacian, which normalizes by degree. We can compute this easily using linear algebra:\n",
    "\n",
    "$$\n",
    "Ln = D^{-\\frac{1}{2}}LD^{-\\frac{1}{2}}\n",
    "$$"
   ]
  },
  {
   "cell_type": "code",
   "execution_count": 20,
   "metadata": {},
   "outputs": [
    {
     "name": "stdout",
     "output_type": "stream",
     "text": [
      "[[ 1.         -0.28867513 -0.28867513 -0.28867513 -0.25        0.\n",
      "   0.          0.        ]\n",
      " [-0.28867513  1.         -0.33333333 -0.33333333  0.          0.\n",
      "   0.          0.        ]\n",
      " [-0.28867513 -0.33333333  1.         -0.33333333  0.          0.\n",
      "   0.          0.        ]\n",
      " [-0.28867513 -0.33333333 -0.33333333  1.          0.          0.\n",
      "   0.          0.        ]\n",
      " [-0.25        0.          0.          0.          1.         -0.28867513\n",
      "  -0.28867513 -0.28867513]\n",
      " [ 0.          0.          0.          0.         -0.28867513  1.\n",
      "  -0.33333333 -0.33333333]\n",
      " [ 0.          0.          0.          0.         -0.28867513 -0.33333333\n",
      "   1.         -0.33333333]\n",
      " [ 0.          0.          0.          0.         -0.28867513 -0.33333333\n",
      "  -0.33333333  1.        ]]\n"
     ]
    }
   ],
   "source": [
    "Ln = numpy.linalg.inv(numpy.sqrt(D)).dot(L).dot(numpy.linalg.inv(numpy.sqrt(D)))\n",
    "print(Ln)"
   ]
  },
  {
   "cell_type": "code",
   "execution_count": 67,
   "metadata": {},
   "outputs": [
    {
     "data": {
      "image/png": "[encoded data removed]",
      "text/plain": [
       "<matplotlib.figure.Figure at 0x123f31748>"
      ]
     },
     "metadata": {},
     "output_type": "display_data"
    }
   ],
   "source": [
    "eig = numpy.linalg.eig(Ln)\n",
    "def plot_eig(eig):\n",
    "    plt.figure(figsize=(8,8))\n",
    "    plt.imshow(eig[1])       # Get locations and labels\n",
    "    _=plt.xticks([i for i in range(len(eig[0]))], ['%0.2f'%i for i in eig[0]])\n",
    "    plt.xlabel('eigenvalue')\n",
    "    plt.title('eigenvectors')\n",
    "    plt.tight_layout()\n",
    "    \n",
    "plot_eig(eig)"
   ]
  },
  {
   "cell_type": "markdown",
   "metadata": {},
   "source": [
    "Note that there is a single zero eigenvalue, which represents the fact that there is a single graph component.  Let's see what would happen if we were to add another component:"
   ]
  },
  {
   "cell_type": "code",
   "execution_count": 55,
   "metadata": {},
   "outputs": [
    {
     "data": {
      "image/png": "[encoded data removed]",
      "text/plain": [
       "<matplotlib.figure.Figure at 0x126b4d240>"
      ]
     },
     "metadata": {},
     "output_type": "display_data"
    }
   ],
   "source": [
    "G_bigger = G.copy()\n",
    "G_bigger.add_edges_from([(9,10),(10,11),(10,12)])\n",
    "nx.draw_spring(G_bigger)"
   ]
  },
  {
   "cell_type": "markdown",
   "metadata": {},
   "source": [
    "Now let's get the Laplacian matrix (this time using the built-in NetworkX function) and compute its eigenvalues."
   ]
  },
  {
   "cell_type": "code",
   "execution_count": 69,
   "metadata": {},
   "outputs": [
    {
     "data": {
      "text/plain": [
       "array([-1.11022302e-16,  1.13382475e-01,  1.08333333e+00,  1.46995086e+00,\n",
       "        1.33333333e+00,  1.33333333e+00,  1.33333333e+00,  1.33333333e+00,\n",
       "        2.00000000e+00,  1.00000000e+00, -1.00275610e-16,  1.00000000e+00])"
      ]
     },
     "execution_count": 69,
     "metadata": {},
     "output_type": "execute_result"
    }
   ],
   "source": [
    "Ln_bigger = nx.normalized_laplacian_matrix(G_bigger).todense()\n",
    "eig_bigger=numpy.linalg.eig(Ln_bigger)\n",
    "eig_bigger[0]"
   ]
  },
  {
   "cell_type": "markdown",
   "metadata": {},
   "source": [
    "Here you can see that there are two zero-valued eigenvalues, reflecting the fact that there are two components.\n",
    "\n",
    "Now look back at the second column in the eigenvector matrix above, corresponding to the second largest eigenvalue.  Let's draw the graph and color the nodes according to the values of this second smallest eigenvalue:"
   ]
  },
  {
   "cell_type": "code",
   "execution_count": 74,
   "metadata": {},
   "outputs": [
    {
     "data": {
      "image/png": "[encoded data removed]",
      "text/plain": [
       "<matplotlib.figure.Figure at 0x125ea1be0>"
      ]
     },
     "metadata": {},
     "output_type": "display_data"
    }
   ],
   "source": [
    "nx.draw_spring(G,node_color=eig[1][:,1],cmap='viridis')"
   ]
  },
  {
   "cell_type": "markdown",
   "metadata": {},
   "source": [
    "What this shows is that the eigenvector corresponding to the smallest nonzero eigenvalue of the Laplacian matrix divides the graph by its major communities.\n",
    "\n",
    "Spectral clustering methods take this approach further by treating each vertex in a metric space defined by the eigenvectors, and then using these to perform various clustering operations (e.g., k-means clustering)."
   ]
  },
  {
   "cell_type": "code",
   "execution_count": null,
   "metadata": {},
   "outputs": [],
   "source": []
  }
 ],
 "metadata": {
  "kernelspec": {
   "display_name": "Python 3",
   "language": "python",
   "name": "python3"
  },
  "language_info": {
   "codemirror_mode": {
    "name": "ipython",
    "version": 3
   },
   "file_extension": ".py",
   "mimetype": "text/x-python",
   "name": "python",
   "nbconvert_exporter": "python",
   "pygments_lexer": "ipython3",
   "version": "3.6.3"
  }
 },
 "nbformat": 4,
 "nbformat_minor": 2
}
