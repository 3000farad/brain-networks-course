{
 "cells": [
  {
   "cell_type": "markdown",
   "metadata": {},
   "source": [
    "## Network modeling\n",
    "\n",
    "In this session we will examine methods for characterizing the higher-order structure of a network.  \n",
    "\n",
    "### Community detection\n",
    "\n",
    "A common feature of real-world networks is that they exhibit *community structure* - that is, there are groups of individuals who are heavily connected to each other and much less heavily connected to node in other communities. Another way to put this is that edges are *clustered* - and in fact community detection is similar in spirit to clustering.\n",
    "\n",
    "\n",
    "Let's start with our example of network neuroscience researchers from last week"
   ]
  },
  {
   "cell_type": "code",
   "execution_count": 1,
   "metadata": {},
   "outputs": [],
   "source": [
    "import os\n",
    "import pandas,numpy\n",
    "import networkx as nx\n",
    "import itertools\n",
    "from Bio import Entrez\n",
    "import scipy.cluster\n",
    "import pickle\n",
    "import infomap\n",
    "import igraph\n",
    "import matplotlib.pyplot as plt\n",
    "import sklearn\n",
    "\n",
    "import sys\n",
    "sys.path.append('../utils')\n",
    "from utils import get_joint_pubs,nx_to_igraph,module_degree_zscore,participation_coefficient\n",
    "\n",
    "%matplotlib inline"
   ]
  },
  {
   "cell_type": "code",
   "execution_count": 12,
   "metadata": {},
   "outputs": [
    {
     "name": "stdout",
     "output_type": "stream",
     "text": [
      "     DB   AF   MB   SP   MC    JP    DF    AZ   MG   VJ\n",
      "DB  0.0  2.0  1.0  1.0  3.0   2.0   0.0   1.0  0.0  0.0\n",
      "AF  0.0  0.0  4.0  0.0  0.0   0.0   0.0  28.0  0.0  0.0\n",
      "MB  0.0  0.0  0.0  0.0  0.0   0.0   0.0  13.0  0.0  6.0\n",
      "SP  0.0  0.0  0.0  0.0  1.0  27.0  15.0   0.0  6.0  0.0\n",
      "MC  0.0  0.0  0.0  0.0  0.0   2.0   0.0   0.0  1.0  0.0\n",
      "JP  0.0  0.0  0.0  0.0  0.0   0.0   3.0   0.0  3.0  0.0\n",
      "DF  0.0  0.0  0.0  0.0  0.0   0.0   0.0   0.0  0.0  0.0\n",
      "AZ  0.0  0.0  0.0  0.0  0.0   0.0   0.0   0.0  0.0  0.0\n",
      "MG  0.0  0.0  0.0  0.0  0.0   0.0   0.0   0.0  0.0  0.0\n",
      "VJ  0.0  0.0  0.0  0.0  0.0   0.0   0.0   0.0  0.0  0.0\n",
      "    DB  AF  MB  SP  MC  JP  DF  AZ  MG  VJ\n",
      "DB   0   1   1   1   1   1   0   1   0   0\n",
      "AF   0   0   1   0   0   0   0   1   0   0\n",
      "MB   0   0   0   0   0   0   0   1   0   1\n",
      "SP   0   0   0   0   1   1   1   0   1   0\n",
      "MC   0   0   0   0   0   1   0   0   1   0\n",
      "JP   0   0   0   0   0   0   1   0   1   0\n",
      "DF   0   0   0   0   0   0   0   0   0   0\n",
      "AZ   0   0   0   0   0   0   0   0   0   0\n",
      "MG   0   0   0   0   0   0   0   0   0   0\n",
      "VJ   0   0   0   0   0   0   0   0   0   0\n"
     ]
    }
   ],
   "source": [
    "# If the publication data are cached then load those and use them\n",
    "# instead of getting them from pubmed\n",
    "if os.path.exists('../data/pubmed/pubdata.pkl'):\n",
    "    numpubs=pickle.load(open('../data/pubmed/pubdata.pkl','rb'))\n",
    "else:\n",
    "    numpubs={}\n",
    "\n",
    "researchers={'DB':{'name':'Danielle Bassett'},\n",
    "            'AF':{'name':'Alex Fornito'},\n",
    "            'MB':{'name':'Michael Breakspear'},\n",
    "            'SP':{'name':'Steve Petersen'},\n",
    "            'MC':{'name':'Michael Cole'},\n",
    "            'JP':{'name':'Jonathan Power'},\n",
    "            'DF':{'name':'Damien Fair'},\n",
    "            'AZ':{'name':'Andrew Zalesky'},\n",
    "            'MG':{'name':'Matthew Glasser'},\n",
    "            'VJ':{'name':'Viktor Jirsa'}}\n",
    "\n",
    "# first get pubmed search terms from names\n",
    "for i in researchers:\n",
    "    n_s=researchers[i]['name'].lower().split(' ')\n",
    "    researchers[i]['pubmed_name']=n_s[1]+'-'+n_s[0][0]\n",
    "\n",
    "\n",
    "email='bill@gmail.com'  # email address for use by Entrez\n",
    "for i in itertools.combinations(list(researchers.keys()),2):\n",
    "    if not i in numpubs:\n",
    "        # use cached data if present\n",
    "        numpubs[i]=get_joint_pubs((researchers[i[0]]['pubmed_name'],\n",
    "                                   researchers[i[1]]['pubmed_name']),\n",
    "                                   email)\n",
    "\n",
    "\n",
    "# save pub data\n",
    "pickle.dump(numpubs,open('../data/pubmed/pubdata.pkl','wb'))\n",
    "\n",
    "# create a list to use in making the matrix\n",
    "# do this so that the order stays fixed\n",
    "researchers_list=list(researchers.keys()) \n",
    "\n",
    "# create a data frame to hold all of the entries\n",
    "# for each combination of researchers\n",
    "\n",
    "df=pandas.DataFrame(numpy.zeros((len(researchers),\n",
    "                                 len(researchers))),\n",
    "                   index=researchers_list,\n",
    "                   columns=researchers_list)\n",
    "\n",
    "# we just fill in the upper triangle of the matrix\n",
    "for i,j in enumerate(researchers_list):\n",
    "    for k in range(i,len(researchers_list)):\n",
    "        if i==k:\n",
    "            continue\n",
    "        df.loc[j][k]=numpubs[(j,researchers_list[k])]\n",
    "\n",
    "print(df)\n",
    "\n",
    "# make binary adjacency matrix\n",
    "threshold=0\n",
    "adjacency_mtx=(df>threshold).astype('int')\n",
    "print(adjacency_mtx)\n",
    "\n"
   ]
  },
  {
   "cell_type": "code",
   "execution_count": 3,
   "metadata": {},
   "outputs": [
    {
     "data": {
      "image/png": "[encoded data removed]",
      "text/plain": [
       "<matplotlib.figure.Figure at 0x1064799b0>"
      ]
     },
     "metadata": {},
     "output_type": "display_data"
    }
   ],
   "source": [
    "# create network\n",
    "\n",
    "G = nx.Graph()\n",
    "\n",
    "G.add_nodes_from(researchers.keys())\n",
    "\n",
    "matches=numpy.where(adjacency_mtx>0)\n",
    "for i in range(len(matches[0])):\n",
    "    G.add_edge(researchers_list[matches[0][i]],\n",
    "               researchers_list[matches[1][i]])\n",
    "\n",
    "nx.draw_spring(G,with_labels=True,node_size=400,font_color='white')\n"
   ]
  },
  {
   "cell_type": "markdown",
   "metadata": {},
   "source": [
    "Looking at this figure we see a couple of things.  First, we see that there are two communities that are highly connected within each other but relatively unconnected between one another.  Second, we see that there is one person (Dani Bassett) who is highly connected to people in both of those groups.  Let's now look at how we can describe these features using graph theory.\n",
    "\n",
    "First let's use a standard hierarhical clustering technique to look at the data."
   ]
  },
  {
   "cell_type": "code",
   "execution_count": 180,
   "metadata": {},
   "outputs": [
    {
     "name": "stderr",
     "output_type": "stream",
     "text": [
      "/Users/poldrack/anaconda3/envs/py3/lib/python3.6/site-packages/ipykernel_launcher.py:7: ClusterWarning: scipy.cluster: The symmetric non-negative hollow observation matrix looks suspiciously like an uncondensed distance matrix\n",
      "  import sys\n"
     ]
    },
    {
     "data": {
      "image/png": "[encoded data removed]",
      "text/plain": [
       "<matplotlib.figure.Figure at 0x12c1d78d0>"
      ]
     },
     "metadata": {},
     "output_type": "display_data"
    }
   ],
   "source": [
    "# create a distance matrix based on the binary adjacency matrix\n",
    "distmtx = 1 - (adjacency_mtx + adjacency_mtx.T).values\n",
    "# zero out the diagonal\n",
    "distmtx[numpy.diag_indices_from(distmtx)]=0\n",
    "\n",
    "# create linkage and plot dendrogram\n",
    "Z = scipy.cluster.hierarchy.linkage(distmtx, 'ward')\n",
    "dn = scipy.cluster.hierarchy.dendrogram(Z,labels=adjacency_mtx.columns)"
   ]
  },
  {
   "cell_type": "markdown",
   "metadata": {},
   "source": [
    "This figure captures some of the features of the graph above, and if we cut the graph at the right point we could create two clusters that would map onto the communities that are clear from the spring-embedded graph.  Now let's see what happens when we use a graph-theoretic method for community detection. \n",
    "\n",
    "We will use the Girvan-Newman method, which is succinctly described in the networkx documentation:\n",
    "\n",
    ">The Girvan–Newman algorithm detects communities by progressively removing edges from the original graph. The algorithm removes the “most valuable” edge, traditionally the edge with the highest betweenness centrality, at each step. As the graph breaks down into pieces, the tightly knit community structure is exposed and the result can be depicted as a dendrogram.\n",
    "\n",
    "In this case we know that there should be two communities, so we will simply use the algorithm to find the first breakdown into two communities.\n",
    "\n"
   ]
  },
  {
   "cell_type": "code",
   "execution_count": 181,
   "metadata": {},
   "outputs": [
    {
     "data": {
      "text/html": [
       "<div>\n",
       "<style>\n",
       "    .dataframe thead tr:only-child th {\n",
       "        text-align: right;\n",
       "    }\n",
       "\n",
       "    .dataframe thead th {\n",
       "        text-align: left;\n",
       "    }\n",
       "\n",
       "    .dataframe tbody tr th {\n",
       "        vertical-align: top;\n",
       "    }\n",
       "</style>\n",
       "<table border=\"1\" class=\"dataframe\">\n",
       "  <thead>\n",
       "    <tr style=\"text-align: right;\">\n",
       "      <th></th>\n",
       "      <th>0</th>\n",
       "    </tr>\n",
       "  </thead>\n",
       "  <tbody>\n",
       "    <tr>\n",
       "      <th>DB</th>\n",
       "      <td>0.0</td>\n",
       "    </tr>\n",
       "    <tr>\n",
       "      <th>AF</th>\n",
       "      <td>1.0</td>\n",
       "    </tr>\n",
       "    <tr>\n",
       "      <th>MB</th>\n",
       "      <td>1.0</td>\n",
       "    </tr>\n",
       "    <tr>\n",
       "      <th>SP</th>\n",
       "      <td>0.0</td>\n",
       "    </tr>\n",
       "    <tr>\n",
       "      <th>MC</th>\n",
       "      <td>0.0</td>\n",
       "    </tr>\n",
       "    <tr>\n",
       "      <th>JP</th>\n",
       "      <td>0.0</td>\n",
       "    </tr>\n",
       "    <tr>\n",
       "      <th>DF</th>\n",
       "      <td>0.0</td>\n",
       "    </tr>\n",
       "    <tr>\n",
       "      <th>AZ</th>\n",
       "      <td>1.0</td>\n",
       "    </tr>\n",
       "    <tr>\n",
       "      <th>MG</th>\n",
       "      <td>0.0</td>\n",
       "    </tr>\n",
       "    <tr>\n",
       "      <th>VJ</th>\n",
       "      <td>1.0</td>\n",
       "    </tr>\n",
       "  </tbody>\n",
       "</table>\n",
       "</div>"
      ],
      "text/plain": [
       "      0\n",
       "DB  0.0\n",
       "AF  1.0\n",
       "MB  1.0\n",
       "SP  0.0\n",
       "MC  0.0\n",
       "JP  0.0\n",
       "DF  0.0\n",
       "AZ  1.0\n",
       "MG  0.0\n",
       "VJ  1.0"
      ]
     },
     "execution_count": 181,
     "metadata": {},
     "output_type": "execute_result"
    }
   ],
   "source": [
    "comp = nx.algorithms.community.centrality.girvan_newman(G)\n",
    "\n",
    "# the function creates an iterator, so grab the first item\n",
    "communities = tuple(sorted(c) for c in next(comp))\n",
    "\n",
    "# create a partition variable that we can use for labeling the graph\n",
    "partition=pandas.DataFrame(numpy.zeros(adjacency_mtx.shape[0]),\n",
    "                          index=adjacency_mtx.columns)\n",
    "for i,c in enumerate(communities):\n",
    "    partition.loc[c]=i\n",
    "partition"
   ]
  },
  {
   "cell_type": "markdown",
   "metadata": {},
   "source": [
    "Now let's plot the spring-embedded graph using the community partition to color the nodes:"
   ]
  },
  {
   "cell_type": "code",
   "execution_count": 182,
   "metadata": {},
   "outputs": [
    {
     "data": {
      "image/png": "[encoded data removed]",
      "text/plain": [
       "<matplotlib.figure.Figure at 0x12c31ca90>"
      ]
     },
     "metadata": {},
     "output_type": "display_data"
    }
   ],
   "source": [
    "nx.draw_spring(G,with_labels=True,\n",
    "               node_size=400,\n",
    "               font_color='white',\n",
    "               node_color=partition.values)\n"
   ]
  },
  {
   "cell_type": "markdown",
   "metadata": {},
   "source": [
    "This shows that the partition found by the Girvan-Newman algorithm identifies the two major communities that are visually evident in the graph.  \n",
    "\n",
    "It is worth noting that in general one doesn't necessarily know the \"right\" number of communities in a network, so we generally have to use methods that try to determine the number of communities.  However, like determining the number of clusters in a clustering problem, there is no single right answer for the number of communities.  See [this paper](http://proceedings.mlr.press/v27/luxburg12a/luxburg12a.pdf) for a deeper discussion of this issue in the context of clustering."
   ]
  },
  {
   "cell_type": "markdown",
   "metadata": {},
   "source": [
    "### Community detection in complex neworks\n",
    "\n",
    "Now let's look at the Facebook data from last week's example.\n"
   ]
  },
  {
   "cell_type": "code",
   "execution_count": null,
   "metadata": {},
   "outputs": [],
   "source": [
    "facebook_data=pandas.read_csv('../data/facebook/facebook_combined.txt',sep=' ',\n",
    "                             header=None)\n",
    "# generate a networkx graph\n",
    "G_facebook=nx.Graph()\n",
    "for i in facebook_data.index:\n",
    "    G_facebook.add_edges_from([tuple(facebook_data.loc[i])])\n"
   ]
  },
  {
   "cell_type": "markdown",
   "metadata": {},
   "source": [
    "### Modularity \n",
    "\n",
    "One of the most common methods for community detection relies upon the concept of modularity, which is a metric that quantifies the degree to which the number of edges within communities exceeds that expected in a random network of similar size and density.  See [here](https://www.ncbi.nlm.nih.gov/pmc/articles/PMC1482622/) for a deeper discussion.   \n",
    "\n",
    "#DIG DEEPER INTO MODULARITY?"
   ]
  },
  {
   "cell_type": "markdown",
   "metadata": {},
   "source": [
    "A general strategy for community detection is to find the partition that maximizes modularity.  There are a number of methods that can be used to find the network partition that maximizes modularity; this is a hard problem, so most methods use a heuristic approach.  The NetworkX toolbox doesn't include very many of these, but the iGraph toolbox [includes a number of the popular tools for community detection](http://igraph.org/c/doc/igraph-Community.html), so let's use that toolbox instead.  We will use the *multilevel* method [described by Blondel and colleagues](https://arxiv.org/pdf/0803.0476.pdf).  \n",
    "\n"
   ]
  },
  {
   "cell_type": "code",
   "execution_count": null,
   "metadata": {},
   "outputs": [],
   "source": [
    "ig_facebook = nx_to_igraph(G_facebook) \n",
    "\n",
    "ml=ig_facebook.community_multilevel()\n",
    "unique_partitions=numpy.unique(ml.membership)\n",
    "print('Louvain method found %d communities'%len(unique_partitions))\n",
    "for i in unique_partitions:\n",
    "    print('%d: %d members'%(i,numpy.sum(ml.membership==i)))"
   ]
  },
  {
   "cell_type": "markdown",
   "metadata": {},
   "source": [
    "Let's plot the spring embedded graph coloring the different communities."
   ]
  },
  {
   "cell_type": "code",
   "execution_count": null,
   "metadata": {},
   "outputs": [],
   "source": [
    "nx.draw_spring(G_facebook,node_color=ml.membership,\n",
    "              cmap='tab20',node_size=3,alpha=0.5)"
   ]
  },
  {
   "cell_type": "markdown",
   "metadata": {},
   "source": [
    "Given this community partition we can also compute the modularity value directly:"
   ]
  },
  {
   "cell_type": "code",
   "execution_count": null,
   "metadata": {},
   "outputs": [],
   "source": [
    "ig_facebook.modularity(ml)"
   ]
  },
  {
   "cell_type": "markdown",
   "metadata": {},
   "source": [
    "This value is quite high (e.g. see [Table 1](https://www.ncbi.nlm.nih.gov/pmc/articles/PMC1482622/table/T1/) of Newman's 2006 PNAS paper), suggesting that there is indeed a strong degree of modular organization in the data (as we would have expected from the graph)."
   ]
  },
  {
   "cell_type": "markdown",
   "metadata": {},
   "source": [
    "### Infomap\n",
    "\n",
    "Another commonly used method for community detection in neuroimaging is the [Infomap algorithm](http://www.mapequation.org/code.html), which is also implemented in iGraph."
   ]
  },
  {
   "cell_type": "code",
   "execution_count": null,
   "metadata": {},
   "outputs": [],
   "source": [
    "infomap_result = ig_facebook.community_infomap()"
   ]
  },
  {
   "cell_type": "code",
   "execution_count": null,
   "metadata": {},
   "outputs": [],
   "source": [
    "unique_partitions=numpy.unique(infomap_result.membership)\n",
    "print('Infomap method found %d communities'%len(unique_partitions))\n"
   ]
  },
  {
   "cell_type": "markdown",
   "metadata": {},
   "source": [
    "As we see, the infomap method with this dataset finds a number of large clusters but also finds many more small clusters.  This highlights one limitation of modularity-based approaches, known as the [\"resolution limit\"](http://www.pnas.org/content/104/1/36), which prevents them from identifying small clusters (where \"small\" depends on the size of the network and the degree to which the modules are interconnected). \n",
    "\n"
   ]
  },
  {
   "cell_type": "markdown",
   "metadata": {},
   "source": [
    "### Network hubs\n",
    "\n",
    "We know that in any group there are some individuals who are better connected than others, and this was evident from the long-tailed degree distrbution in the Facebook data.  In network science, such high-degree nodes are often referred to as \"hubs\".  Given our characterization of community structure, we can further differentiate between different types of hubs.  Some hubs are both highly connected within their own module and to nodes in other modules, which we refer to as *connector hubs*.  Other hubs are highly connected, but primarily to other nodes within their own module, which we refer to as *provincial hubs*.  These different types of hubs play different roles in network communication, and we will encounter them repeatedly as we discuss network neuroscience research. \n",
    "\n",
    "To examine this, let's look at a more realistic network of research publications. To do this, we will search on a set of researchers in the field and find all of their coauthors, and then map their co-publication network.\n",
    "\n"
   ]
  },
  {
   "cell_type": "code",
   "execution_count": 4,
   "metadata": {},
   "outputs": [
    {
     "name": "stdout",
     "output_type": "stream",
     "text": [
      "[1, 1, 1, 0, 0, 0, 0, 1, 0, 1]\n",
      "0.3317901234567901\n"
     ]
    },
    {
     "data": {
      "image/png": "[encoded data removed]",
      "text/plain": [
       "<matplotlib.figure.Figure at 0x12b1c3160>"
      ]
     },
     "metadata": {},
     "output_type": "display_data"
    }
   ],
   "source": [
    "ig_pub = nx_to_igraph(G)\n",
    "pub_comms = ig_pub.community_multilevel()\n",
    "print(pub_comms.membership)\n",
    "print(ig_pub.modularity(pub_comms))\n",
    "\n",
    "nx.draw_spring(G,with_labels=True,\n",
    "               node_size=400,\n",
    "               font_color='white',\n",
    "               node_color=pub_comms.membership)"
   ]
  },
  {
   "cell_type": "markdown",
   "metadata": {},
   "source": [
    "A general approach to categorizing different types of hubs was presented by [Guimera and Amaral (2005)](https://www.ncbi.nlm.nih.gov/pmc/articles/PMC2175124/), known as \"cartographic analysis\".  This involves computing two node-level measures:\n",
    "\n",
    "- within-module degree Z-score: \n",
    "\n",
    "- participation coefficient: A measure of the squared proportion of edges that are with nodes outside one's own module.\n",
    "\n",
    "$$P_i = 1 - \\sum_{s=1}^{N_M} \\left ( \\frac{k_{is}}{k_i} \\right )^2$$\n",
    "\n",
    "$k_{is}$ is the number of edges that fall within one's module, and $k_i$ is the total number of edges"
   ]
  },
  {
   "cell_type": "code",
   "execution_count": 8,
   "metadata": {},
   "outputs": [
    {
     "data": {
      "text/plain": [
       "array([ 0.20412415,  0.20412415,  1.22474487,  1.06904497, -0.26726124,\n",
       "        1.06904497, -1.60356745,  0.20412415, -0.26726124, -1.83711731])"
      ]
     },
     "execution_count": 8,
     "metadata": {},
     "output_type": "execute_result"
    }
   ],
   "source": [
    "\n",
    "mdzs=module_degree_zscore(G, pub_comms.membership)\n",
    "mdzs\n"
   ]
  },
  {
   "cell_type": "code",
   "execution_count": 10,
   "metadata": {},
   "outputs": [
    {
     "name": "stdout",
     "output_type": "stream",
     "text": [
      "        PC      MDZS  ModDegree\n",
      "DB  0.7500  0.204124        3.0\n",
      "AF  0.0000  0.204124        3.0\n",
      "MB  0.0000  1.224745        4.0\n",
      "SP  0.3600  1.069045        4.0\n",
      "MC  0.4375 -0.267261        3.0\n",
      "JP  0.3600  1.069045        4.0\n",
      "DF  0.0000 -1.603567        2.0\n",
      "AZ  0.0000  0.204124        3.0\n",
      "MG  0.0000 -0.267261        3.0\n",
      "VJ  0.0000 -1.837117        1.0\n"
     ]
    },
    {
     "data": {
      "image/png": "[encoded data removed]",
      "text/plain": [
       "<matplotlib.figure.Figure at 0x12ba77630>"
      ]
     },
     "metadata": {},
     "output_type": "display_data"
    }
   ],
   "source": [
    "\n",
    "    \n",
    "\n",
    "pc=participation_coefficient(G,pub_comms.membership)\n",
    "\n",
    "cartography=pandas.DataFrame(numpy.vstack((pc,\n",
    "                                           mdzs,\n",
    "                                           module_degree_zscore(G,pub_comms.membership,zscore=False))).T,\n",
    "                             columns=['PC','MDZS','ModDegree'],\n",
    "                            index=adjacency_mtx.index)\n",
    "print(cartography)\n",
    "plt.scatter(cartography.PC,cartography.MDZS)\n",
    "ax=plt.gca()\n",
    "for i, txt in enumerate(cartography.index):\n",
    "    ax.annotate(txt, (cartography.PC[i], cartography.MDZS[i]))"
   ]
  },
  {
   "cell_type": "code",
   "execution_count": null,
   "metadata": {},
   "outputs": [],
   "source": []
  },
  {
   "cell_type": "code",
   "execution_count": null,
   "metadata": {},
   "outputs": [],
   "source": []
  }
 ],
 "metadata": {
  "kernelspec": {
   "display_name": "Python 3",
   "language": "python",
   "name": "python3"
  },
  "language_info": {
   "codemirror_mode": {
    "name": "ipython",
    "version": 3
   },
   "file_extension": ".py",
   "mimetype": "text/x-python",
   "name": "python",
   "nbconvert_exporter": "python",
   "pygments_lexer": "ipython3",
   "version": "3.6.3"
  }
 },
 "nbformat": 4,
 "nbformat_minor": 2
}
